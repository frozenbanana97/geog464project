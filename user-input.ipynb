{
 "cells": [
  {
   "cell_type": "markdown",
   "metadata": {},
   "source": [
    "### This Jupyter notebook will be used to determine the user defines variables"
   ]
  },
  {
   "cell_type": "markdown",
   "metadata": {},
   "source": [
    "#### Step 1 - Retrieve Location of Desired Study Area\n",
    "Using either a shapefile, coordinate, or WKT the study area for where satalite imagery will be downloaded is to be determined"
   ]
  },
  {
   "cell_type": "code",
   "execution_count": 28,
   "metadata": {},
   "outputs": [],
   "source": [
    "#import requirements\n",
    "import pandas as pd\n",
    "import geopandas as gpd\n",
    "import asf_search as asf\n",
    "from shapely import wkt"
   ]
  },
  {
   "cell_type": "markdown",
   "metadata": {},
   "source": [
    "### Find data using a geographic search\n",
    "To begin, we will need to craft a suitable WKT. ASF's [Vertex](https://search.asf.alaska.edu) can be helpful in this regard, as it allows you to draw on a map, or import a geospatial file such as a shapefile or geojson, after which a WKT string can be copied and used elsewhere."
   ]
  },
  {
   "cell_type": "code",
   "execution_count": 29,
   "metadata": {},
   "outputs": [
    {
     "name": "stdout",
     "output_type": "stream",
     "text": [
      "The given location is: POLYGON((-85.5523 64.8284,-84.9823 64.8284,-84.9823 65.3214,-85.5523 65.3214,-85.5523 64.8284))\n"
     ]
    }
   ],
   "source": [
    "#Select location using a WKT obtained from ASF's Vertex search site or copied from a geodatabase (must resemble: 'POLYGON((-85.5523 64.8284,-84.9823 64.8284,-84.9823 65.3214,-85.5523 65.3214,-85.5523 64.8284))')\n",
    "\n",
    "location = input('input WKT string')\n",
    "print('The given location is: ' + location)"
   ]
  },
  {
   "cell_type": "code",
   "execution_count": 35,
   "metadata": {},
   "outputs": [
    {
     "name": "stdout",
     "output_type": "stream",
     "text": [
      "The date range of the search will be: 2020-01-01 to 2020-01-08\n"
     ]
    }
   ],
   "source": [
    "#input date range for search\n",
    "dateStart = input('input start date in YYYY-MM-DD')\n",
    "dateEnd = input('input end date in YYYY-MM-DD')\n",
    "\n",
    "print('The date range of the search will be: ' + dateStart + ' to ' + dateEnd)"
   ]
  },
  {
   "cell_type": "code",
   "execution_count": 36,
   "metadata": {},
   "outputs": [
    {
     "name": "stdout",
     "output_type": "stream",
     "text": [
      "22 results found\n"
     ]
    }
   ],
   "source": [
    "#perform the search for results with the given locations centroid and date range\n",
    "\n",
    "centroidwkt = wkt.loads(location)\n",
    "centroid = centroidwkt.centroid.wkt\n",
    "\n",
    "\n",
    "centroid_results = asf.geo_search(\n",
    "        intersectsWith=centroid,\n",
    "        platform=asf.PLATFORM.SENTINEL1,\n",
    "        maxResults=50,\n",
    "        start=dateStart,\n",
    "        end=dateEnd)\n",
    "\n",
    "print(f'{len(centroid_results)} results found')"
   ]
  },
  {
   "cell_type": "code",
   "execution_count": 37,
   "metadata": {},
   "outputs": [
    {
     "name": "stdout",
     "output_type": "stream",
     "text": [
      "26 results found\n"
     ]
    }
   ],
   "source": [
    "#perform the search for results with the given location and date range, use if centroid yields no results\n",
    "\n",
    "geo_results = asf.geo_search(\n",
    "        intersectsWith=location,\n",
    "        platform=asf.PLATFORM.SENTINEL1,\n",
    "        maxResults=50,\n",
    "        start=dateStart,\n",
    "        end=dateEnd)\n",
    "\n",
    "print(f'{len(geo_results)} results found')"
   ]
  },
  {
   "cell_type": "code",
   "execution_count": 42,
   "metadata": {},
   "outputs": [
    {
     "data": {
      "text/plain": [
       "<asf_search.ASFProduct.ASFProduct at 0x1d23e542ce0>"
      ]
     },
     "execution_count": 42,
     "metadata": {},
     "output_type": "execute_result"
    }
   ],
   "source": [
    "geo_results[1]"
   ]
  },
  {
   "cell_type": "markdown",
   "metadata": {},
   "source": [
    "### Finding data using an existing product name\n",
    "If you already have the name of the product (i.e. ')"
   ]
  }
 ],
 "metadata": {
  "interpreter": {
   "hash": "2da65eb68450e4ce2e658af4fd1bdf44adc91c5c2dd325c9f2d088ea218e5bb3"
  },
  "kernelspec": {
   "display_name": "Python 3.10.1 ('venv-ice': venv)",
   "language": "python",
   "name": "python3"
  },
  "language_info": {
   "codemirror_mode": {
    "name": "ipython",
    "version": 3
   },
   "file_extension": ".py",
   "mimetype": "text/x-python",
   "name": "python",
   "nbconvert_exporter": "python",
   "pygments_lexer": "ipython3",
   "version": "3.10.1"
  },
  "orig_nbformat": 4
 },
 "nbformat": 4,
 "nbformat_minor": 2
}
