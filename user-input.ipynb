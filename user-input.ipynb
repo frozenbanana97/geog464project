{
 "cells": [
  {
   "cell_type": "markdown",
   "metadata": {},
   "source": [
    "### This Jupyter notebook will be used to determine the user defines variables"
   ]
  },
  {
   "cell_type": "markdown",
   "metadata": {},
   "source": [
    "#### Step 1 - Retrieve Location of Desired Study Area\n",
    "Using either a shapefile, coordinate, or WKT the study area for where satalite imagery will be downloaded is to be determined"
   ]
  },
  {
   "cell_type": "code",
   "execution_count": 5,
   "metadata": {},
   "outputs": [],
   "source": [
    "#import requirements\n",
    "import pandas as pd\n",
    "import geopandas as gpd\n",
    "import asf_search as asf\n",
    "from shapely import wkt"
   ]
  },
  {
   "cell_type": "markdown",
   "metadata": {},
   "source": [
    "### Find data using a geographic search\n",
    "To begin, we will need to craft a suitable WKT. ASF's [Vertex](https://search.asf.alaska.edu) can be helpful in this regard, as it allows you to draw on a map, or import a geospatial file such as a shapefile or geojson, after which a WKT string can be copied and used elsewhere. <br><br>\n",
    "This method is good for bulk downloads of all scenes matching the description, excercise with caution as it will download the max limit (currently set at 10) and can take awhile."
   ]
  },
  {
   "cell_type": "code",
   "execution_count": 6,
   "metadata": {},
   "outputs": [
    {
     "name": "stdout",
     "output_type": "stream",
     "text": [
      "The given location is: POLYGON((-85.5523 64.8284,-84.9823 64.8284,-84.9823 65.3214,-85.5523 65.3214,-85.5523 64.8284))\n"
     ]
    }
   ],
   "source": [
    "#Select location using a WKT obtained from ASF's Vertex search site or copied from a geodatabase (must resemble: 'POLYGON((-85.5523 64.8284,-84.9823 64.8284,-84.9823 65.3214,-85.5523 65.3214,-85.5523 64.8284))')\n",
    "\n",
    "location = input('input WKT string')\n",
    "print('The given location is: ' + location)"
   ]
  },
  {
   "cell_type": "code",
   "execution_count": 7,
   "metadata": {},
   "outputs": [
    {
     "name": "stdout",
     "output_type": "stream",
     "text": [
      "The date range of the search will be: 2020-01-01 to 2022-01-05\n"
     ]
    }
   ],
   "source": [
    "#input date range for search\n",
    "dateStart = input('input start date in YYYY-MM-DD')\n",
    "dateEnd = input('input end date in YYYY-MM-DD')\n",
    "\n",
    "print('The date range of the search will be: ' + dateStart + ' to ' + dateEnd)"
   ]
  },
  {
   "cell_type": "code",
   "execution_count": 19,
   "metadata": {},
   "outputs": [],
   "source": [
    "#perform the search for results with the given locations centroid and date range\n",
    "\n",
    "centroidwkt = wkt.loads(location)\n",
    "centroid = centroidwkt.centroid.wkt\n",
    "\n",
    "\n",
    "centroid_results = asf.geo_search(\n",
    "        intersectsWith=centroid,\n",
    "        platform=asf.PLATFORM.SENTINEL1,\n",
    "        maxResults=10,\n",
    "        start=dateStart,\n",
    "        end=dateEnd)\n",
    "\n",
    "print(f'{len(centroid_results)} results found')"
   ]
  },
  {
   "cell_type": "code",
   "execution_count": 18,
   "metadata": {},
   "outputs": [
    {
     "name": "stdout",
     "output_type": "stream",
     "text": [
      "10 results found\n"
     ]
    }
   ],
   "source": [
    "#perform the search for results with the given location and date range, use if centroid yields no results\n",
    "\n",
    "geo_results = asf.geo_search(\n",
    "        intersectsWith=location,\n",
    "        platform=asf.PLATFORM.SENTINEL1,\n",
    "        maxResults=10,\n",
    "        start=dateStart,\n",
    "        end=dateEnd)\n",
    "\n",
    "print(f'{len(geo_results)} results found')"
   ]
  },
  {
   "cell_type": "markdown",
   "metadata": {},
   "source": [
    "### Finding data using an existing scene name\n",
    "If you already have the name of the scene (i.e. 'S1A_EW_GRDM_1SDH_20150205T122016_20150205T122116_004488_005812_F6B0') you can use this part of the program. This is the recommended method as it allows the user to visually verify the scene before downloading."
   ]
  },
  {
   "cell_type": "code",
   "execution_count": 10,
   "metadata": {},
   "outputs": [],
   "source": [
    "#add scenes to the list to search using ASF's Vertex online app \n",
    "scene_list = []\n",
    "scene_list.append(input('input the scene here (i.e. \\'S1A_EW_GRDM_1SDH_20150205T122016_20150205T122116_004488_005812_F6B0'))\n"
   ]
  },
  {
   "cell_type": "code",
   "execution_count": 11,
   "metadata": {},
   "outputs": [
    {
     "name": "stdout",
     "output_type": "stream",
     "text": [
      "2 results found\n"
     ]
    }
   ],
   "source": [
    "granule_results = asf.granule_search(scene_list)\n",
    "\n",
    "print(f'{len(granule_results)} results found')"
   ]
  },
  {
   "cell_type": "markdown",
   "metadata": {},
   "source": [
    "#### Login to downlaod data\n",
    "\n",
    "You to have an [Earthdata Login](https://urs.earthdata.nasa.gov/) account to access the download function. The easiest way to check that your EDL account is in order is to simply go to [Vertex](https://search.asf.alaska.edu) and try to download a product."
   ]
  },
  {
   "cell_type": "code",
   "execution_count": 12,
   "metadata": {},
   "outputs": [],
   "source": [
    "import getpass\n",
    "from pathlib import Path\n",
    "\n",
    "dirs = ['downloads']"
   ]
  },
  {
   "cell_type": "code",
   "execution_count": 13,
   "metadata": {},
   "outputs": [
    {
     "name": "stdout",
     "output_type": "stream",
     "text": [
      "Success!\n"
     ]
    }
   ],
   "source": [
    "#login to ASF using EE credentials\n",
    "username = input('Username:')\n",
    "password = getpass.getpass('Password:')\n",
    "\n",
    "try:\n",
    "    user_pass_session = asf.ASFSession().auth_with_creds(username, password)\n",
    "except asf.ASFAuthenticationError as e:\n",
    "    print(f'Auth failed: {e}')\n",
    "else:\n",
    "    print('Success!')\n",
    "\n",
    "    #in the future i may add token and cookie login features"
   ]
  },
  {
   "cell_type": "markdown",
   "metadata": {},
   "source": [
    "#### Download the data\n",
    "The scene search will download the specific file the user found in [Vertex](https://search.asf.alaska.edu), this may be prefered to geographic search.<br><br>\n",
    "The geographic search methods are good for bulk downloads of all scenes matching the description, excercise with caution as it will download the max limit (currently set at 10) and can take awhile."
   ]
  },
  {
   "cell_type": "code",
   "execution_count": 14,
   "metadata": {},
   "outputs": [],
   "source": [
    "import os.path\n",
    "from os import mkdir"
   ]
  },
  {
   "cell_type": "code",
   "execution_count": 15,
   "metadata": {},
   "outputs": [],
   "source": [
    "#set the downlaod directory, or create it if it doesnt exist\n",
    "downPath = './downloads'\n",
    "isDir = os.path.isdir(downPath)\n",
    "\n",
    "if isDir == False:\n",
    "    mkdir('downloads')"
   ]
  },
  {
   "cell_type": "code",
   "execution_count": null,
   "metadata": {},
   "outputs": [],
   "source": [
    "#download results from search\n",
    "from os import listdir\n",
    "\n",
    "#have user choose which result type to download\n",
    "resultChoice=input('Type either: centroid, geo, or scene depending on the search criteria used')\n",
    "\n",
    "if resultChoice == 'centroid':\n",
    "    results = centroid_results\n",
    "if resultChoice == 'geo':\n",
    "    results = geo_results\n",
    "if resultChoice == 'scene':\n",
    "    results = granule_results\n",
    "# else:\n",
    "#     print('error, please try again')\n",
    "    \n",
    "\n",
    "results.download(path='./downloads', session=user_pass_session)\n",
    "\n",
    "listdir('./downloads')"
   ]
  }
 ],
 "metadata": {
  "interpreter": {
   "hash": "2da65eb68450e4ce2e658af4fd1bdf44adc91c5c2dd325c9f2d088ea218e5bb3"
  },
  "kernelspec": {
   "display_name": "Python 3.10.1 ('venv-ice': venv)",
   "language": "python",
   "name": "python3"
  },
  "language_info": {
   "codemirror_mode": {
    "name": "ipython",
    "version": 3
   },
   "file_extension": ".py",
   "mimetype": "text/x-python",
   "name": "python",
   "nbconvert_exporter": "python",
   "pygments_lexer": "ipython3",
   "version": "3.10.1"
  },
  "orig_nbformat": 4
 },
 "nbformat": 4,
 "nbformat_minor": 2
}
