{
 "cells": [
  {
   "cell_type": "markdown",
   "metadata": {},
   "source": [
    "### This Jupyter notebook will be used to determine the user defines variables"
   ]
  },
  {
   "cell_type": "markdown",
   "metadata": {},
   "source": [
    "#### Step 1 - Retrieve Location of Desired Study Area\n",
    "Using either a shapefile, coordinate, or WKT the study area for where satalite imagery will be downloaded is to be determined"
   ]
  },
  {
   "cell_type": "code",
   "execution_count": null,
   "metadata": {},
   "outputs": [],
   "source": []
  }
 ],
 "metadata": {
  "interpreter": {
   "hash": "2da65eb68450e4ce2e658af4fd1bdf44adc91c5c2dd325c9f2d088ea218e5bb3"
  },
  "kernelspec": {
   "display_name": "Python 3.10.1 ('venv-ice': venv)",
   "language": "python",
   "name": "python3"
  },
  "language_info": {
   "name": "python",
   "version": "3.10.1"
  },
  "orig_nbformat": 4
 },
 "nbformat": 4,
 "nbformat_minor": 2
}
